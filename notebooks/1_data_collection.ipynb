{
 "cells": [
  {
   "cell_type": "code",
   "execution_count": 7,
   "id": "955c6d78",
   "metadata": {},
   "outputs": [],
   "source": [
    "import sys\n",
    "sys.path.append('../src')\n",
    "\n",
    "from data_collection import FinancialDataCollector\n",
    "from data_processing import FinancialDataProcessor\n",
    "import pandas as pd\n",
    "import numpy as np"
   ]
  },
  {
   "cell_type": "code",
   "execution_count": 8,
   "id": "59b933eb",
   "metadata": {},
   "outputs": [],
   "source": [
    "collector = FinancialDataCollector()"
   ]
  },
  {
   "cell_type": "markdown",
   "id": "50bccaf1",
   "metadata": {},
   "source": [
    "## Collect Stock Data"
   ]
  },
  {
   "cell_type": "code",
   "execution_count": 10,
   "id": "7e47d0a2",
   "metadata": {},
   "outputs": [
    {
     "name": "stdout",
     "output_type": "stream",
     "text": [
      "Collecting stock market data...\n",
      "Collecting data for 50 stocks...\n",
      "Processing AAPL (1/50)\n",
      "Processing MSFT (2/50)\n",
      "Processing GOOGL (3/50)\n",
      "Processing AMZN (4/50)\n",
      "Processing TSLA (5/50)\n",
      "Processing META (6/50)\n",
      "Processing NVDA (7/50)\n",
      "Processing BRK-B (8/50)\n",
      "Processing UNH (9/50)\n",
      "Processing JNJ (10/50)\n",
      "Processing V (11/50)\n",
      "Processing WMT (12/50)\n",
      "Processing XOM (13/50)\n",
      "Processing LLY (14/50)\n",
      "Processing JPM (15/50)\n",
      "Processing PG (16/50)\n",
      "Processing MA (17/50)\n",
      "Processing HD (18/50)\n",
      "Processing CVX (19/50)\n",
      "Processing MRK (20/50)\n",
      "Processing ABBV (21/50)\n",
      "Processing PEP (22/50)\n",
      "Processing KO (23/50)\n",
      "Processing AVGO (24/50)\n",
      "Processing PFE (25/50)\n",
      "Processing TMO (26/50)\n",
      "Processing COST (27/50)\n",
      "Processing BAC (28/50)\n",
      "Processing NFLX (29/50)\n",
      "Processing CRM (30/50)\n",
      "Processing ACN (31/50)\n",
      "Processing LIN (32/50)\n",
      "Processing MCD (33/50)\n",
      "Processing ABT (34/50)\n",
      "Processing ADBE (35/50)\n",
      "Processing DHR (36/50)\n",
      "Processing VZ (37/50)\n",
      "Processing WFC (38/50)\n",
      "Processing NEE (39/50)\n",
      "Processing CMCSA (40/50)\n",
      "Processing PM (41/50)\n",
      "Processing NKE (42/50)\n",
      "Processing TXN (43/50)\n",
      "Processing RTX (44/50)\n",
      "Processing UNP (45/50)\n",
      "Processing LOW (46/50)\n",
      "Processing AMD (47/50)\n",
      "Processing T (48/50)\n",
      "Processing QCOM (49/50)\n",
      "Processing HON (50/50)\n",
      "Data saved to data\\raw\\stock_data.pkl\n"
     ]
    }
   ],
   "source": [
    "print(\"Collecting stock market data...\")\n",
    "stock_data = collector.collect_stock_data(period=\"2y\", save_data=True)"
   ]
  },
  {
   "cell_type": "code",
   "execution_count": null,
   "id": "3a4a960b",
   "metadata": {},
   "outputs": [],
   "source": [
    "master_df = collector.create_master_dataframe(stock_data)"
   ]
  }
 ],
 "metadata": {
  "kernelspec": {
   "display_name": "Python 3",
   "language": "python",
   "name": "python3"
  },
  "language_info": {
   "codemirror_mode": {
    "name": "ipython",
    "version": 3
   },
   "file_extension": ".py",
   "mimetype": "text/x-python",
   "name": "python",
   "nbconvert_exporter": "python",
   "pygments_lexer": "ipython3",
   "version": "3.13.3"
  }
 },
 "nbformat": 4,
 "nbformat_minor": 5
}
